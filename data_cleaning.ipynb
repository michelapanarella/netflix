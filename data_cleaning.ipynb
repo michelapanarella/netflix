{
 "cells": [
  {
   "cell_type": "code",
   "execution_count": 2,
   "metadata": {},
   "outputs": [],
   "source": [
    "import pandas as pd\n",
    "import numpy as np\n",
    "import matplotlib as plt\n",
    "import math\n",
    "\n",
    "netflix = pd.read_csv(\"/Users/Michela/Desktop/netflix_titles.csv\")\n",
    "#netflix = pd.read_csv(\"~/netflix_titles.csv\")"
   ]
  },
  {
   "cell_type": "code",
   "execution_count": 4,
   "metadata": {},
   "outputs": [
    {
     "data": {
      "text/html": [
       "<div>\n",
       "<style scoped>\n",
       "    .dataframe tbody tr th:only-of-type {\n",
       "        vertical-align: middle;\n",
       "    }\n",
       "\n",
       "    .dataframe tbody tr th {\n",
       "        vertical-align: top;\n",
       "    }\n",
       "\n",
       "    .dataframe thead th {\n",
       "        text-align: right;\n",
       "    }\n",
       "</style>\n",
       "<table border=\"1\" class=\"dataframe\">\n",
       "  <thead>\n",
       "    <tr style=\"text-align: right;\">\n",
       "      <th></th>\n",
       "      <th>show_id</th>\n",
       "      <th>type</th>\n",
       "      <th>title</th>\n",
       "      <th>director</th>\n",
       "      <th>cast</th>\n",
       "      <th>country</th>\n",
       "      <th>date_added</th>\n",
       "      <th>release_year</th>\n",
       "      <th>rating</th>\n",
       "      <th>duration</th>\n",
       "      <th>listed_in</th>\n",
       "      <th>description</th>\n",
       "    </tr>\n",
       "  </thead>\n",
       "  <tbody>\n",
       "    <tr>\n",
       "      <th>0</th>\n",
       "      <td>81145628</td>\n",
       "      <td>Movie</td>\n",
       "      <td>Norm of the North: King Sized Adventure</td>\n",
       "      <td>Richard Finn, Tim Maltby</td>\n",
       "      <td>Alan Marriott, Andrew Toth, Brian Dobson, Cole...</td>\n",
       "      <td>United States, India, South Korea, China</td>\n",
       "      <td>September 9, 2019</td>\n",
       "      <td>2019</td>\n",
       "      <td>TV-PG</td>\n",
       "      <td>90 min</td>\n",
       "      <td>Children &amp; Family Movies, Comedies</td>\n",
       "      <td>Before planning an awesome wedding for his gra...</td>\n",
       "    </tr>\n",
       "    <tr>\n",
       "      <th>1</th>\n",
       "      <td>80117401</td>\n",
       "      <td>Movie</td>\n",
       "      <td>Jandino: Whatever it Takes</td>\n",
       "      <td>NaN</td>\n",
       "      <td>Jandino Asporaat</td>\n",
       "      <td>United Kingdom</td>\n",
       "      <td>September 9, 2016</td>\n",
       "      <td>2016</td>\n",
       "      <td>TV-MA</td>\n",
       "      <td>94 min</td>\n",
       "      <td>Stand-Up Comedy</td>\n",
       "      <td>Jandino Asporaat riffs on the challenges of ra...</td>\n",
       "    </tr>\n",
       "    <tr>\n",
       "      <th>2</th>\n",
       "      <td>70234439</td>\n",
       "      <td>TV Show</td>\n",
       "      <td>Transformers Prime</td>\n",
       "      <td>NaN</td>\n",
       "      <td>Peter Cullen, Sumalee Montano, Frank Welker, J...</td>\n",
       "      <td>United States</td>\n",
       "      <td>September 8, 2018</td>\n",
       "      <td>2013</td>\n",
       "      <td>TV-Y7-FV</td>\n",
       "      <td>1 Season</td>\n",
       "      <td>Kids' TV</td>\n",
       "      <td>With the help of three human allies, the Autob...</td>\n",
       "    </tr>\n",
       "    <tr>\n",
       "      <th>3</th>\n",
       "      <td>80058654</td>\n",
       "      <td>TV Show</td>\n",
       "      <td>Transformers: Robots in Disguise</td>\n",
       "      <td>NaN</td>\n",
       "      <td>Will Friedle, Darren Criss, Constance Zimmer, ...</td>\n",
       "      <td>United States</td>\n",
       "      <td>September 8, 2018</td>\n",
       "      <td>2016</td>\n",
       "      <td>TV-Y7</td>\n",
       "      <td>1 Season</td>\n",
       "      <td>Kids' TV</td>\n",
       "      <td>When a prison ship crash unleashes hundreds of...</td>\n",
       "    </tr>\n",
       "    <tr>\n",
       "      <th>4</th>\n",
       "      <td>80125979</td>\n",
       "      <td>Movie</td>\n",
       "      <td>#realityhigh</td>\n",
       "      <td>Fernando Lebrija</td>\n",
       "      <td>Nesta Cooper, Kate Walsh, John Michael Higgins...</td>\n",
       "      <td>United States</td>\n",
       "      <td>September 8, 2017</td>\n",
       "      <td>2017</td>\n",
       "      <td>TV-14</td>\n",
       "      <td>99 min</td>\n",
       "      <td>Comedies</td>\n",
       "      <td>When nerdy high schooler Dani finally attracts...</td>\n",
       "    </tr>\n",
       "  </tbody>\n",
       "</table>\n",
       "</div>"
      ],
      "text/plain": [
       "    show_id     type                                    title  \\\n",
       "0  81145628    Movie  Norm of the North: King Sized Adventure   \n",
       "1  80117401    Movie               Jandino: Whatever it Takes   \n",
       "2  70234439  TV Show                       Transformers Prime   \n",
       "3  80058654  TV Show         Transformers: Robots in Disguise   \n",
       "4  80125979    Movie                             #realityhigh   \n",
       "\n",
       "                   director  \\\n",
       "0  Richard Finn, Tim Maltby   \n",
       "1                       NaN   \n",
       "2                       NaN   \n",
       "3                       NaN   \n",
       "4          Fernando Lebrija   \n",
       "\n",
       "                                                cast  \\\n",
       "0  Alan Marriott, Andrew Toth, Brian Dobson, Cole...   \n",
       "1                                   Jandino Asporaat   \n",
       "2  Peter Cullen, Sumalee Montano, Frank Welker, J...   \n",
       "3  Will Friedle, Darren Criss, Constance Zimmer, ...   \n",
       "4  Nesta Cooper, Kate Walsh, John Michael Higgins...   \n",
       "\n",
       "                                    country         date_added  release_year  \\\n",
       "0  United States, India, South Korea, China  September 9, 2019          2019   \n",
       "1                            United Kingdom  September 9, 2016          2016   \n",
       "2                             United States  September 8, 2018          2013   \n",
       "3                             United States  September 8, 2018          2016   \n",
       "4                             United States  September 8, 2017          2017   \n",
       "\n",
       "     rating  duration                           listed_in  \\\n",
       "0     TV-PG    90 min  Children & Family Movies, Comedies   \n",
       "1     TV-MA    94 min                     Stand-Up Comedy   \n",
       "2  TV-Y7-FV  1 Season                            Kids' TV   \n",
       "3     TV-Y7  1 Season                            Kids' TV   \n",
       "4     TV-14    99 min                            Comedies   \n",
       "\n",
       "                                         description  \n",
       "0  Before planning an awesome wedding for his gra...  \n",
       "1  Jandino Asporaat riffs on the challenges of ra...  \n",
       "2  With the help of three human allies, the Autob...  \n",
       "3  When a prison ship crash unleashes hundreds of...  \n",
       "4  When nerdy high schooler Dani finally attracts...  "
      ]
     },
     "execution_count": 4,
     "metadata": {},
     "output_type": "execute_result"
    }
   ],
   "source": [
    "netflix.head()\n",
    "#To clean the data: \n",
    "#0. count missing\n",
    "#1. get the date added in datetime format\n",
    "#2. Get the year the film was made\n",
    "#3. Clean up the ratings as there are a lot of categories"
   ]
  },
  {
   "cell_type": "code",
   "execution_count": 6,
   "metadata": {},
   "outputs": [
    {
     "data": {
      "text/html": [
       "<div>\n",
       "<style scoped>\n",
       "    .dataframe tbody tr th:only-of-type {\n",
       "        vertical-align: middle;\n",
       "    }\n",
       "\n",
       "    .dataframe tbody tr th {\n",
       "        vertical-align: top;\n",
       "    }\n",
       "\n",
       "    .dataframe thead th {\n",
       "        text-align: right;\n",
       "    }\n",
       "</style>\n",
       "<table border=\"1\" class=\"dataframe\">\n",
       "  <thead>\n",
       "    <tr style=\"text-align: right;\">\n",
       "      <th></th>\n",
       "      <th>missing</th>\n",
       "    </tr>\n",
       "  </thead>\n",
       "  <tbody>\n",
       "    <tr>\n",
       "      <th>show_id</th>\n",
       "      <td>0</td>\n",
       "    </tr>\n",
       "    <tr>\n",
       "      <th>type</th>\n",
       "      <td>0</td>\n",
       "    </tr>\n",
       "    <tr>\n",
       "      <th>title</th>\n",
       "      <td>0</td>\n",
       "    </tr>\n",
       "    <tr>\n",
       "      <th>director</th>\n",
       "      <td>1969</td>\n",
       "    </tr>\n",
       "    <tr>\n",
       "      <th>cast</th>\n",
       "      <td>570</td>\n",
       "    </tr>\n",
       "    <tr>\n",
       "      <th>country</th>\n",
       "      <td>476</td>\n",
       "    </tr>\n",
       "    <tr>\n",
       "      <th>date_added</th>\n",
       "      <td>11</td>\n",
       "    </tr>\n",
       "    <tr>\n",
       "      <th>release_year</th>\n",
       "      <td>0</td>\n",
       "    </tr>\n",
       "    <tr>\n",
       "      <th>rating</th>\n",
       "      <td>10</td>\n",
       "    </tr>\n",
       "    <tr>\n",
       "      <th>duration</th>\n",
       "      <td>0</td>\n",
       "    </tr>\n",
       "    <tr>\n",
       "      <th>listed_in</th>\n",
       "      <td>0</td>\n",
       "    </tr>\n",
       "    <tr>\n",
       "      <th>description</th>\n",
       "      <td>0</td>\n",
       "    </tr>\n",
       "  </tbody>\n",
       "</table>\n",
       "</div>"
      ],
      "text/plain": [
       "              missing\n",
       "show_id             0\n",
       "type                0\n",
       "title               0\n",
       "director         1969\n",
       "cast              570\n",
       "country           476\n",
       "date_added         11\n",
       "release_year        0\n",
       "rating             10\n",
       "duration            0\n",
       "listed_in           0\n",
       "description         0"
      ]
     },
     "execution_count": 6,
     "metadata": {},
     "output_type": "execute_result"
    }
   ],
   "source": [
    "#evaluate the missings\n",
    "missing=pd.DataFrame({'missing': netflix.isnull().sum()})\n",
    "missing\n",
    "#not a lot of missing overall - most missing is from director/country of origin/cast"
   ]
  },
  {
   "cell_type": "code",
   "execution_count": 7,
   "metadata": {},
   "outputs": [],
   "source": [
    "#change the date/time\n",
    "netflix[\"date_added\"] = pd.to_datetime(netflix['date_added'])\n",
    "netflix['year_added'] = (netflix['date_added'].dt.year)"
    "#change seasons/duration"
    "netflix['season'] = netflix.apply( lambda x: x['duration'].split(" ")[0] if "Season" in x['duration'] else "", axis=1 )\n"
    "netflix['film_length'] = netflix.apply(lambda x: x['duration'].split(" ")[0] if "min" in x["duration"] else "", axis=1)"


   ]
  },
  {
   "cell_type": "code",
   "execution_count": 9,
   "metadata": {},
   "outputs": [
    {
     "data": {
      "text/plain": [
       "<matplotlib.axes._subplots.AxesSubplot at 0x1177ef940>"
      ]
     },
     "execution_count": 9,
     "metadata": {},
     "output_type": "execute_result"
    },
    {
     "data": {
      "image/png": "iVBORw0KGgoAAAANSUhEUgAAAZEAAAD4CAYAAAAtrdtxAAAABHNCSVQICAgIfAhkiAAAAAlwSFlzAAALEgAACxIB0t1+/AAAADh0RVh0U29mdHdhcmUAbWF0cGxvdGxpYiB2ZXJzaW9uMy4xLjAsIGh0dHA6Ly9tYXRwbG90bGliLm9yZy+17YcXAAAY90lEQVR4nO3dfZRcdX3H8feH0AgBDI9FCZYAKtWEFsNWbSv2lFhJROXpUJJjK7b2IIhHQ4sQD7VnW7VikcYjpFKUVGglgKjAUTn4gDU+ILAJC8kKGMCghISnlIcYJJJ8+8f8Jt5MZmZ37869dybzeZ0zZ2d+93fv/c7d2fnuffr+FBGYmZnlsUvVAZiZWe9yEjEzs9ycRMzMLDcnETMzy81JxMzMctu16gDKtP/++8f06dOrDsPMrKcsX778yYg4oNm0vkoi06dPZ2hoqOowzMx6iqSHW03z4SwzM8vNScTMzHLrqyQy8tRI1SGYme1UCk0ikkLSxZnX50oazLx+t6RVklZKukvSuS2Ws0TS45JWNbRfK2k4PdZIGi7szZiZ2Q6K3hN5AThZ0v6NEyTNBRYAb42II4E3As+0WM4XgTmNjRFxWkQcFRFHAV8BvtqpwM3MbHRFJ5EXgcuBc5pM+whwbkQ8ChARL0TE55stJCKWARtarUSSgL8Elk44YjMzG7MyzoksBt4laWpD+0xgeYfWcQzwWESsbpwg6QxJQ5KGtjy3pUOrMzMzKCGJRMSzwFXABwtczXxa7IVExOURMRARA5P2mlRgCGZm/aesq7M+A7wX2CPTNgIc3dhR0isyJ8vPHG3BknYFTgau7VSwZmY2NqUkkYjYAFxHLZHUfRK4SNLLACRNlvR3EfHL+snyiLhsDIt/C3BfRDzS+cjNzKydMu8TuRjYdpVWRHwTuBT4jqQRYAXw0mYzSloK3AYcIekRSdlkNI8xnlCfsd+MnKGbmVkz6qfhcQcGBsK1s8zMxkfS8ogYaDatr+5YNzOzznISMTOz3JxEzMwsNycRMzPLzUnEzMxycxIxM7Pcunp4XEnTga9HxMxM2yCwkVrtrT+jVvlXwN9HxHfbLvDRuwqK1MysP/X6nsiHUxn4BcBY7m43M7MO6vUkUncbMK3qIMzM+s3OkkTmADdUHYSZWb/p6nMiQKuaLPX2iyT9K3Aw8MfNOko6AzgD4PemquMBmpn1s27fE3kK2KehbV/gyfT8wxHxauB8YEmzBWTHEzlgipOImVkndXUSiYiNwDpJxwJI2pfaoasfNnS9FNhF0nElh2hm1te6Ookk7wY+KmkYuBX454h4MNshaqWIPw6cV0F8ZmZ9y6XgzcysLZeCNzOzQjiJmJlZbk4iZmaWm5OImZnl5iRiZma5OYmYmVlu3V72pKNWrn2G6Qu/sUP7mguPryAaM7Pe17N7IpIOlHS1pIckLZd0m6STqo7LzKyf9GQSkSRqVXuXRcRhEXE0MI9aIUYzMytJrx7OOhbYHBHbBqKKiIeBS6oLycys//TknggwA1gxlo6SzpA0JGloy6ZnCg7LzKy/9GoS2Y6kxZLulnRn47RsKfhJU6ZWEZ6Z2U6rV5PICDCr/iIizgZmAwdUFpGZWR/q1SRyK7CbpLMybVOqCsbMrF/15In1iAhJJwKLJJ0HPAH8itoIhy0dOW0qQ74nxMysY3oyiQBExDpql/WamVlFevVwlpmZdQEnETMzy81JxMzMcnMSMTOz3JxEzMwsNycRMzPLrWcv8c2j1XgiY+ExR8zMdtR2T0TSfpKG02O9pLXpeUg6rqHvAkmfa2ibK+mHqXQ7knaVdI+kN0j6bGbZqyU92SKGj2fWOyzpE5I+JuljDf0GJK3MtxnMzCyPtnsiEfEUcBSApEFgY0R8WtIZ1G70uyXTfR5wXsP8N0t6L3A68EVgAfCjiLgduL3eT9I5wGvahHJRRHwm0/+11MYT+WjD+pe2ez9mZtZZec+JXA8cL2kygKTpwEHAD5r0/RDwUUkzgDOBjzTpM59xJICI+CnwvKSj0/oFnApcM/a3YGZmE5UriUTEBuAOYG5qmgdcFxHRpO9a4FLgNmAwIp7OTpd0ODAN+H6bVX44czjrLaltKb8te/KnwLqIeKhxRo8nYmZWnIlcnZX9Eh/tUNJigIj4nybT6gloa5v5L4qIo9LjO6ntGuDUtBfScv0eT8TMrDgTSSI3ArMlzQKmRMRygHTie1jScKbv1vRoZrsEIOnCNP9Qu5VHxBrgUeAY4CTgutzvxMzMcsmdRCJiI/A9YAmZJBARF9T3GkZbhqSZwO4RcUdm/oVp/oExhLEU+CxwX6rqa2ZmJZrofSJLga+RvyT7PCZ2Mvw6YBG1E/aj8ngiZmadpSbnwndaAwMDMTTU9iiZmZk1kLS81dEhlz0xM7PcnETMzCw3JxEzM8vNScTMzHJzEjEzs9z6qhT83c9t4mXfGx69Yw7r/3zU22LMzHY6le2JFFlmvsz3YWbWzypLIhHxVObO9suARen5+9jx5sUdamNFxM3Aempl5mH7MvNmZlaCbjycdT3wcUmTI2LzGMrML5N0J7W71sdSKsXMzDqk606sd7LMPGxfCn7rMztMNjOzCei6JJJ0qsz8dqXgd5m6d2ejNDPrc92aRDpVZt7MzArUlUmkE2XmzcyseN14Yr1uomXmd/CHe01hyPdzmJl1TFckkYgYbNJ2A6AxzPsi4JMdZmYV6MrDWWZm1hucRMzMLDcnETMzy81JxMzMcnMSMTOz3JxEzMwst664xLcszz23ku/eenhhy5997IOFLdvMrBuVvicy0XFEMtP+Ko0fMiLpbklfkOT7RczMSlR6EpnoOCIAkuYA5wBzI2IGMAv4MXBgocGbmdl2uumcyPXA8ZImA4wyjsgFwLmpFDwRsSUilkTE/SXFamZmdFESGc84IsAMYMVYlpsdT+Tpp13s18ysk7omiSTjGUcEAElHpnMqD0o6rXF6djyRvffutrdrZtbbuu1bdazjiIxQOw9CRKxM51RuBnavImgzs37VVUlkHOOIfBL4tKSDM7M7gZiZlawb7xMZdRyRiPimpAOAmyVNAp4GVgG3tFvwXnsdyexjhzoZq5lZX6s0iUxwHJErgSsLCMvMzMaoqw5nmZlZb3ESMTOz3JxEzMwsNycRMzPLzUnEzMxy68ZLfAvz6KOPMjg4WMq6ylqPmVmVCt0TmWjZd0lzJf1QktLrXVP59zdI+mxm2aslPVnkezEzsx0VmkQmWvY9Im4G1gOnp6YFwI8i4vaI+GBm2f8BfLXI92JmZjuq6nDW9cDHJU2OiM2jlH3/ELBM0p3AmcBAkz7zgfMLitXMzFqo5MT6eMq+pzFDLgVuAwYj4unsdEmHA9OA7zdbV7YU/KZNmzr4LszMrMqrs8ZT9n0xQET8T5Np9QTUdLCQbCn4KVOmTCReMzNrUGUSGWvZd4Ct6dHMmMYdMTOzzqssiYyj7HtLkmYCu0fEHcVFamZmrVR9n8ioZd9HMQ+4ZqydDzroIN+/YWbWQaUlkQmWfX8R2LtJ+z92JDgzM8vFZU/MzCw3JxEzM8vNScTMzHJzEjEzs9ycRMzMLDcnETMzy63q+0RKtXntRh5Z2KzGY3EOvvCYUtdnZlamrt8TkbQllUFZJenLkqak9gMlXS3pIUnLJd0m6aSq4zUz6yddn0SA51MZlJnAZuDMNEjVDcCyiDgsIo6mdvf6wVUGambWb3ohiWT9AHglcCywOSIuq0+IiIcj4pLKIjMz60M9k0Qk7Upt/JGVwAxgxRjn2zaeyIZNT48+g5mZjVkvJJHdU1n4IeAXwBWNHSQtlnR3Gv1wO9nxRPadskP5LTMzm4BeuDrr+cay8JJGgFPqryPibEn7U0s0ZmZWkl7YE2nmVmA3SWdl2jxsoZlZyXphT2QHERGSTgQWSToPeAL4FXB+u/kmT9vT922YmXVQ1yeRiNizRfs68g9mZWZmHdCrh7PMzKwLOImYmVluTiJmZpabk4iZmeXmJGJmZrl1/dVZnfTYQw9w8WlvrzoMAP7h2q9XHYKZ2YR19Z6IpJB0ceb1uZIG0/NBSWtTmfifSppfWaBmZn2qq5MI8AJwcipp0syiVBLlBOA/Jf1OeaGZmVm3J5EXgcuBc9p1iojVwCZgnzKCMjOzmm5PIgCLgXdJmtqqg6RZwOqIeLzJtG2l4H/1wuYi4zQz6ztdn0Qi4lngKuCDTSafkyr63g58osX820rB7/GSyQVGambWf7o+iSSfAd4L7NHQvigiZlArC3+FpN1Kj8zMrI/1RBKJiA3AddQSSbPpN1EbS+T0MuMyM+t3vXSfyMXAB9pM/xfgakmfj4itzToceNgrfX+GmVkHdXUSyZaBj4jHyAw8FRGDDX2XA0eUFpyZmfXG4SwzM+tOTiJmZpabk4iZmeXmJGJmZrk5iZiZWW5OImZmlltXX+LbaY8//ByLz7y16jDG5ezLjq06BDOzlgrdE5G0JY33sUrSlyVNSe0HSrpa0kOSlku6TdJJLZZxqqQRSVslDWTaX5+WPSzp7lbzm5lZcYo+nPV8RBwVETOBzcCZkgTcACyLiMMi4mhgHnBwi2WsAk4GljVpH0jjicyhNp5IX+1ZmZlVrcwv3R8AfwAcC2yOiMvqEyLiYeCSZjNFxL0AtdyzXfumzMvdgOhwvGZmNopSTqynPYS5wEpgBrCiQ8t9QyoFvxI4MyJebNJn23giG3/9dCdWa2ZmSdFJZHdJw9Qq7P4CuKKxg6TF6ZzGneNdeETcnkrB/xHwkWal4LPjiey529453oKZmbVS9OGs59M5i23SnsMp9dcRcXYaQ30oTf8v4HXAoxHxtrGsJCLulbQRmFlfjpmZFa+K+0RuBXaTdFamLVud92/Syfi2CUTSofUT6ZIOAX4fWFNAvGZm1kLpVzNFREg6EVgk6TzgCeBXwPnN+qdLdy8BDgC+IWk4Io4D3gQslPQbYCvw/oh4st26f/eQvXzfhZlZBymify5qGhgYiKEhH+0yMxsPScsjYqDZNJc9MTOz3JxEzMwsNycRMzPLzUnEzMxycxIxM7PcnETMzCy3nq16K2kLtZpZuwI/B/46ItoWx/r1qhHu/f3XlBHeTuk1991bdQhm1mV6eU8kW2Z+A3B21QGZmfWbXk4iWbcB06oOwsys3/R8EpE0CZgN3NRi+rZS8Bu27FAp3szMJqCXk0i9zPx64EDg2806ZUvB7zupZ08BmZl1pV5OIvUy84cAwudEzMxK18tJBNg2TO4HgX/wGOtmZuXaKb50I+IuSfcA84H/btVvt5kzeI2r+JqZdUzPJpGI2LPh9TuqisXMrF/1/OEsMzOrjpOImZnl5iRiZma5OYmYmVluTiJmZpabk4iZmeXWs5f45jHy1AhHXnlk1WFYDitPX1l1CGbWRGF7IpL2kzScHuslrU3PQ9JxDX0XSPpck2UMZuZbJemdmWl/JekeSSOS7pb0BUl7F/V+zMxsR4UlkYh4Ko33cRRwGbAoPX8fMK+h+zxgaYtF1ec7FVgiaRdJc4BzgLkRMQOYBfyYWiFGMzMrSRXnRK4Hjpc0GUDSdOAg4AftZoqIe4EXgf2BC4BzI2JtmrYlIpZExP0Fxm1mZg1KTyIRsQG4A5ibmuYB10VEtJtP0huArcATwAxgxVjWlx1PZMtzW/IHbmZmO6jq6qyl/PaQVrtDWQDnpHFDPg2c1phsJB2Zzpk8KOm0xpmz44lM2mtSp+I3MzOqSyI3ArMlzQKmRMRyAEmfqJ+Mz/RdlM6tHBMR9UNeI9TOgxARK9M5k5uB3Ut8D2Zmfa+SJBIRG4HvAUvI7IVExAWZk/HtfBL4tKSDM21OIGZmJavyPpGlwNfY8UqtUUXENyUdANycxlh/GlgF3NJuvhn7zWDodI8nYmbWKRrlfPZOZWBgIIY8KJWZ2bhIWh4RA82mueyJmZnl5iRiZma5OYmYmVluTiJmZpabk4iZmeXmJGJmZrkVep+IpP2A76aXLwO2UKt99YfAnIi4JdN3AXBERJzVsIw3A58B/gCYFxHXN0x/KfBT4IaI+EDbgB69CwanTug9mVkfGHym6gh6RqF7Ih0qB/8L4D3A1S1W8zFgWWciNjOz8ajqcNaYy8FHxJqIuIdaBd/tSDqa2hgi3yoyWDMza66q2lm5ysFnSdoFuBg4t/MRmpnZWFR5Yn085eCbeT/wzYh4pF2n7HgiT2zqnxIvZmZlqLIA443Aombl4IHjAUap5vvHwDGS3g/sCUyWtDEiFmY7RcTlwOUAAwdNchYxM+ugypJIRGyU1LQcPLXhb0eb/13155LeAww0JhAzMytWlXsiMIZy8JL+KPXZB3iHpH+OiBm51nbQ62DQVXzNzDrFpeDNzKwtl4I3M7NCOImYmVluTiJmZpabk4iZmeXmJGJmZrk5iZiZWW5V3ydSqpVrn2H6wm9UHYaZWanWXHh8Ycvu+J6IpP0kDafHeklr0/OQdFxD3wWSPtdkGYOp/ysb+oakgUzbUaltTqffh5mZja7jSaRDY4gArGzofyow0tBnPvDD9NPMzEpW5jmRMY8hktwAnJD6Hg48AzxZnyhJ1BLLe4C/kLRbQXGbmVkLpSWRHGOIPAv8UtLM1Pfahul/Avw8Ih4E/pdU+bdRthT8lk0e8tLMrJPKvjprvGOIXJP6nUitCGPW/DS93q/pIa2IuDwiBiJiYNIUj69uZtZJZSeRG4HZzcYQqZ+Mb+j/deCvgV9ExLP1RkmTgFOAf5K0BrgEmCNprzLehJmZ1ZSaRCJiI9B0DJHMyfhs/03A+cAnGhY1G7gnIl4REdMj4hDgK8BJhb4BMzPbThX3iYw6hkhWRFzTpHk+Ox7e+gpwFnBVq2UdOW0qQwVeL21m1m88noiZmbXl8UTMzKwQTiJmZpZbXx3OkvQccH/VcbSxP5kbKruMY8uvm+NzbPl1c3ydju2QiDig2YS+KsAI3N/quF43kDTUrfE5tvy6OT7Hll83x1dmbD6cZWZmuTmJmJlZbv2WRC6vOoBRdHN8ji2/bo7PseXXzfGVFltfnVg3M7PO6rc9ETMz6yAnETMzy61vkoikOZLul/SApIUVrP8Vkr4n6aeSRiR9KLUPZoYQHpb0tsw8H0nx3t84tHAB8a2RtDLFMJTa9pX0bUmr0899UrskfTbFdk+qylxkbEdkts+wpGfTcMmVbDtJSyQ9LmlVpm3c20rS6an/akmnFxjbRZLuS+v/mqS9U/t0Sc9ntt9lmXmOTp+HB1L8KjC+cf8ei/h7bhHbtZm41tQrjZe97dp8f1T/uYuInf4BTAIeBA4DJgN3A68tOYaXA7PS872AnwGvBQaBc5v0f22K8yXAoSn+SQXGtwbYv6Ht34CF6flC4FPp+duAmwEBbwRuL/l3uR44pKptB7wZmAWsyrutgH2Bh9LPfdLzfQqK7a3Arun5pzKxTc/2a1jOHSlepfjnFrjtxvV7LOrvuVlsDdMvBv6pim3X5vuj8s9dv+yJvB54ICIeiojN1AaxOqHMACJiXUSsSM+fA+4FprWZ5QTgmoh4ISJ+DjxA7X2U6QTgyvT8SmqDg9Xbr4qanwB7S3p5STHNBh6MiIfb9Cl020XEMmBDk3WOZ1sdB3w7IjZExP8B3wbmFBFbRHwrIl5ML38CHNxuGSm+l0bET6L2zXNV5v10PL42Wv0eC/l7bhdb2pv4S0YZSK+obdfm+6Pyz12/JJFpwC8zrx+h/Rd4oVQbX/51wO2p6QNpl3NJfXeU8mMO4FuSlks6I7UdGBHr0vP1wIEVxZbVOCJmN2w7GP+2qmob/i21/1DrDpV0l6TvSzomtU1L8ZQZ23h+j1Vsu2OAxyJidaatkm3X8P1R+eeuX5JI15C0J7WxTxZEbbTGzwGHA0cB66jtMlfhTRExC5gLnC3pzdmJ6b+qSq8HlzQZeCfw5dTULdtuO92wrZqRdAHwIvCl1LQO+L2IeB3w98DVkl5aQWhd+XtsMJ/t/3mpZNs1+f7YpqrPXb8kkbXAKzKvD05tpZL0O9Q+AF+KiK8CRMRjEbElIrYCn+e3h11KjTki1qafj1Mb8Ov1wGP1w1Tp5+NVxJYxF1gREY+lWLti2yXj3ValxijpPcDbgXelLxvSYaKn0vPl1M4zvDrFkT3kVfRnb7y/x7K33a7AycC1mZhL33bNvj/ogs9dvySRO4FXSTo0/Tc7D7ipzADSMdUrgHsj4t8z7dlzCScB9StDbgLmSXqJpEOBV1E7YVdEbHsojU8vaQ9qJ2JXpRjqV2+cDtyYie3d6QqQNwLPZHapi7Tdf4PdsO0yxrutbgHeKmmfdPjmramt4yTNAc4D3hm1Iafr7QdImpSeH0ZtOz2U4ntW0hvT5/bdmfdTRHzj/T2W/ff8FuC+iNh2mKrsbdfq+4Nu+NxN5Kx8Lz2oXa3wM2r/MVxQwfrfRG1X8x5gOD3eBvw3sDK13wS8PDPPBSne++nQ1TEtYjuM2hUudwMj9e0D7Ad8F1gNfAfYN7ULWJxiWwkMlLD99gCeAqZm2irZdtQS2TrgN9SOKb83z7aidn7igfT4mwJje4DacfD65+6y1PeU9PseBlYA78gsZ4Dal/mDwKWk6hYFxTfu32MRf8/NYkvtXwTObOhb6raj9fdH5Z87lz0xM7Pc+uVwlpmZFcBJxMzMcnMSMTOz3JxEzMwsNycRMzPLzUnEzMxycxIxM7Pc/h9L7lbkcVqEEwAAAABJRU5ErkJggg==\n",
      "text/plain": [
       "<Figure size 432x288 with 1 Axes>"
      ]
     },
     "metadata": {},
     "output_type": "display_data"
    }
   ],
   "source": [
    "#raitngs before cleanups\n",
    "netflix['rating'].value_counts().plot.barh()\n",
    "\n",
    "\n",
    "\n",
    "#majority are TV-MA - very few children's items\n",
    "\n"
   ]
  },
  {
   "cell_type": "code",
   "execution_count": 10,
   "metadata": {},
   "outputs": [
    {
     "data": {
      "text/plain": [
       "<matplotlib.axes._subplots.AxesSubplot at 0x11f0f3940>"
      ]
     },
     "execution_count": 10,
     "metadata": {},
     "output_type": "execute_result"
    },
    {
     "data": {
      "image/png": "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\n",
      "text/plain": [
       "<Figure size 432x288 with 1 Axes>"
      ]
     },
     "metadata": {},
     "output_type": "display_data"
    }
   ],
   "source": [
    "#The ratings categories should be: R, MA, 14A, PG-13, PG, G, NR\n",
    "\n",
    "#to do so, we will change the ratings below. \n",
    "#UR -> NR\n",
    "#NC-17 ->MA\n",
    "#TV-Y7-FV, TV-Y, TY-G -> G\n",
    "#TV-PG -> PG\n",
    "#TV-14 -> 14A\n",
    "#TV-MA -> MA\n",
    "\n",
    "netflix['rating'] = netflix['rating'].map({'UR': \"NR\", 'NC-17': \"MA\", \"TV-MA\":\"MA\", \"TV-Y7-FV\":\"G\", \"G\":\"G\",\n",
    "                                              \"TV-Y\":\"G\", \"TV-G\":\"G\", \"TV-Y7\":\"G\",\"PG\":\"PG\", \"NR\":\"NR\",\"PG-13\":\"PG-13\",\n",
    "                                              \"R\":\"R\", \"TV-PG\":\"PG\", \"TV-14\":\"14A\"})\n",
    "\n",
    "#fewer ratings but more in each rating category \n",
    "netflix['rating'].value_counts().plot.barh()"
   ]
  },
  {
   "cell_type": "code",
   "execution_count": null,
   "metadata": {},
   "outputs": [],
   "source": []
  }
 ],
 "metadata": {
  "kernelspec": {
   "display_name": "Python 3",
   "language": "python",
   "name": "python3"
  },
  "language_info": {
   "codemirror_mode": {
    "name": "ipython",
    "version": 3
   },
   "file_extension": ".py",
   "mimetype": "text/x-python",
   "name": "python",
   "nbconvert_exporter": "python",
   "pygments_lexer": "ipython3",
   "version": "3.6.5"
  }
 },
 "nbformat": 4,
 "nbformat_minor": 2
}
